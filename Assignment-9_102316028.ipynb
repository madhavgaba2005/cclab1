{
 "cells": [
  {
   "cell_type": "markdown",
   "metadata": {},
   "source": [
    "**Assignment 9 CC By Madhav(102316028)**"
   ]
  },
  {
   "cell_type": "markdown",
   "metadata": {},
   "source": [
    "Q1. Write a unique paragraph (5-6 sentences) about your favorite topic (e.g., sports,\n",
    "technology, food, books, etc.).\n",
    "1. Convert text to lowercase and remove punctuaƟon.\n",
    "2. Tokenize the text into words and sentences.\n",
    "3. Remove stopwords (using NLTK's stopwords list).\n",
    "4. Display word frequency distribuƟon (excluding stopwords)."
   ]
  },
  {
   "cell_type": "code",
   "execution_count": 1,
   "metadata": {},
   "outputs": [
    {
     "name": "stderr",
     "output_type": "stream",
     "text": [
      "[nltk_data] Downloading package punkt to\n",
      "[nltk_data]     C:\\Users\\hp\\AppData\\Roaming\\nltk_data...\n",
      "[nltk_data]   Package punkt is already up-to-date!\n",
      "[nltk_data] Downloading package stopwords to\n",
      "[nltk_data]     C:\\Users\\hp\\AppData\\Roaming\\nltk_data...\n",
      "[nltk_data]   Package stopwords is already up-to-date!\n",
      "[nltk_data] Downloading package wordnet to\n",
      "[nltk_data]     C:\\Users\\hp\\AppData\\Roaming\\nltk_data...\n",
      "[nltk_data]   Package wordnet is already up-to-date!\n"
     ]
    },
    {
     "name": "stdout",
     "output_type": "stream",
     "text": [
      "Cleaned Text:\n",
      "\n",
      "punjab kings pbks is a franchise cricket team based in mohali punjab that competes in the indian premier league ipl established in 2008 as kings xi punjab the team was later rebranded as punjab kings in 2021 known for its passionate fan base and flamboyant style of play pbks has featured several star players over the years including kl rahul chris gayle and shikhar dhawan despite having a strong squad and coming close to glory in the 2014 season the team has yet to win an ipl title they play their home matches at the pca stadium in mohali and are recognized for their nevergiveup attitude and exciting brand of cricket\n",
      "\n",
      "\n",
      "Tokens:\n",
      "['punjab', 'kings', 'pbks', 'is', 'a', 'franchise', 'cricket', 'team', 'based', 'in', 'mohali', 'punjab', 'that', 'competes', 'in', 'the', 'indian', 'premier', 'league', 'ipl', 'established', 'in', '2008', 'as', 'kings', 'xi', 'punjab', 'the', 'team', 'was', 'later', 'rebranded', 'as', 'punjab', 'kings', 'in', '2021', 'known', 'for', 'its', 'passionate', 'fan', 'base', 'and', 'flamboyant', 'style', 'of', 'play', 'pbks', 'has', 'featured', 'several', 'star', 'players', 'over', 'the', 'years', 'including', 'kl', 'rahul', 'chris', 'gayle', 'and', 'shikhar', 'dhawan', 'despite', 'having', 'a', 'strong', 'squad', 'and', 'coming', 'close', 'to', 'glory', 'in', 'the', '2014', 'season', 'the', 'team', 'has', 'yet', 'to', 'win', 'an', 'ipl', 'title', 'they', 'play', 'their', 'home', 'matches', 'at', 'the', 'pca', 'stadium', 'in', 'mohali', 'and', 'are', 'recognized', 'for', 'their', 'nevergiveup', 'attitude', 'and', 'exciting', 'brand', 'of', 'cricket']\n",
      "\n",
      "Filtered Words:\n",
      "['punjab', 'kings', 'pbks', 'franchise', 'cricket', 'team', 'based', 'mohali', 'punjab', 'competes', 'indian', 'premier', 'league', 'ipl', 'established', '2008', 'kings', 'xi', 'punjab', 'team', 'later', 'rebranded', 'punjab', 'kings', '2021', 'known', 'passionate', 'fan', 'base', 'flamboyant', 'style', 'play', 'pbks', 'featured', 'several', 'star', 'players', 'years', 'including', 'kl', 'rahul', 'chris', 'gayle', 'shikhar', 'dhawan', 'despite', 'strong', 'squad', 'coming', 'close', 'glory', '2014', 'season', 'team', 'yet', 'win', 'ipl', 'title', 'play', 'home', 'matches', 'pca', 'stadium', 'mohali', 'recognized', 'nevergiveup', 'attitude', 'exciting', 'brand', 'cricket']\n",
      "Word Frequency Distribution (Excluding Stopwords):\n",
      "Counter({'punjab': 4, 'kings': 3, 'team': 3, 'pbks': 2, 'cricket': 2, 'mohali': 2, 'ipl': 2, 'play': 2, 'franchise': 1, 'based': 1, 'competes': 1, 'indian': 1, 'premier': 1, 'league': 1, 'established': 1, '2008': 1, 'xi': 1, 'later': 1, 'rebranded': 1, '2021': 1, 'known': 1, 'passionate': 1, 'fan': 1, 'base': 1, 'flamboyant': 1, 'style': 1, 'featured': 1, 'several': 1, 'star': 1, 'players': 1, 'years': 1, 'including': 1, 'kl': 1, 'rahul': 1, 'chris': 1, 'gayle': 1, 'shikhar': 1, 'dhawan': 1, 'despite': 1, 'strong': 1, 'squad': 1, 'coming': 1, 'close': 1, 'glory': 1, '2014': 1, 'season': 1, 'yet': 1, 'win': 1, 'title': 1, 'home': 1, 'matches': 1, 'pca': 1, 'stadium': 1, 'recognized': 1, 'nevergiveup': 1, 'attitude': 1, 'exciting': 1, 'brand': 1})\n"
     ]
    }
   ],
   "source": [
    "import re\n",
    "import string\n",
    "import nltk\n",
    "from nltk.corpus import stopwords\n",
    "from nltk.tokenize import word_tokenize, sent_tokenize\n",
    "from nltk.stem import PorterStemmer, LancasterStemmer\n",
    "from nltk.stem import WordNetLemmatizer\n",
    "from collections import Counter\n",
    "\n",
    "# NLTK resources \n",
    "nltk.download('punkt')\n",
    "nltk.download('stopwords')\n",
    "nltk.download('wordnet')\n",
    "\n",
    "# Sample text\n",
    "text = \"\"\"\n",
    "Punjab Kings (PBKS) is a franchise cricket team based in Mohali, Punjab, that competes in the Indian Premier League (IPL). Established in 2008 as Kings XI Punjab, the team was later rebranded as Punjab Kings in 2021. Known for its passionate fan base and flamboyant style of play, PBKS has featured several star players over the years, including KL Rahul, Chris Gayle, and Shikhar Dhawan. Despite having a strong squad and coming close to glory in the 2014 season, the team has yet to win an IPL title. They play their home matches at the PCA Stadium in Mohali and are recognized for their never-give-up attitude and exciting brand of cricket.\n",
    "\"\"\"\n",
    "\n",
    "# 1. Convert text to lowercase and remove punctuation\n",
    "text_lower = text.lower()\n",
    "text_clean = text_lower.translate(str.maketrans('', '', string.punctuation))\n",
    "print(\"Cleaned Text:\")\n",
    "print(text_clean)\n",
    "\n",
    "# 2. Tokenize the text into words and sentence\n",
    "words = word_tokenize(text_clean)\n",
    "sentences = sent_tokenize(text)\n",
    "print(\"\\nTokens:\")\n",
    "print(words)\n",
    "\n",
    "# 3. Remove stopwords\n",
    "stop_words = set(stopwords.words('english'))\n",
    "filtered_words = [word for word in words if word not in stop_words]\n",
    "print(\"\\nFiltered Words:\")\n",
    "print(filtered_words)\n",
    "\n",
    "# 4. Display word frequency distribution\n",
    "word_freq = Counter(filtered_words)\n",
    "print(\"Word Frequency Distribution (Excluding Stopwords):\")\n",
    "print(word_freq)\n",
    "\n"
   ]
  },
  {
   "cell_type": "markdown",
   "metadata": {},
   "source": [
    "Q2: Stemming and LemmaƟzaƟon\n",
    "1. Take the tokenized words from QuesƟon 1 (aŌer stopword removal).\n",
    "2. Apply stemming using NLTK's PorterStemmer and LancasterStemmer.\n",
    "3. Apply lemmaƟzaƟon using NLTK's WordNetLemmaƟzer.\n",
    "4. Compare and display results of both techniques. \n"
   ]
  },
  {
   "cell_type": "code",
   "execution_count": 2,
   "metadata": {},
   "outputs": [
    {
     "name": "stdout",
     "output_type": "stream",
     "text": [
      "\n",
      "Stemming (PorterStemmer): ['punjab', 'king', 'pbk', 'franchis', 'cricket', 'team', 'base', 'mohali', 'punjab', 'compet', 'indian', 'premier', 'leagu', 'ipl', 'establish', '2008', 'king', 'xi', 'punjab', 'team', 'later', 'rebrand', 'punjab', 'king', '2021', 'known', 'passion', 'fan', 'base', 'flamboy', 'style', 'play', 'pbk', 'featur', 'sever', 'star', 'player', 'year', 'includ', 'kl', 'rahul', 'chri', 'gayl', 'shikhar', 'dhawan', 'despit', 'strong', 'squad', 'come', 'close', 'glori', '2014', 'season', 'team', 'yet', 'win', 'ipl', 'titl', 'play', 'home', 'match', 'pca', 'stadium', 'mohali', 'recogn', 'nevergiveup', 'attitud', 'excit', 'brand', 'cricket']\n",
      "\n",
      "Stemming (LancasterStemmer): ['punjab', 'king', 'pbks', 'franch', 'cricket', 'team', 'bas', 'mohal', 'punjab', 'compet', 'ind', 'premy', 'leagu', 'ipl', 'est', '2008', 'king', 'xi', 'punjab', 'team', 'lat', 'rebrand', 'punjab', 'king', '2021', 'known', 'pass', 'fan', 'bas', 'flamboy', 'styl', 'play', 'pbks', 'feat', 'sev', 'star', 'play', 'year', 'includ', 'kl', 'rah', 'chris', 'gayl', 'shikh', 'dhaw', 'despit', 'strong', 'squad', 'com', 'clos', 'glory', '2014', 'season', 'team', 'yet', 'win', 'ipl', 'titl', 'play', 'hom', 'match', 'pca', 'stad', 'mohal', 'recogn', 'nevergiveup', 'attitud', 'excit', 'brand', 'cricket']\n",
      "\n",
      "Lemmatization: ['punjab', 'king', 'pbks', 'franchise', 'cricket', 'team', 'based', 'mohali', 'punjab', 'competes', 'indian', 'premier', 'league', 'ipl', 'established', '2008', 'king', 'xi', 'punjab', 'team', 'later', 'rebranded', 'punjab', 'king', '2021', 'known', 'passionate', 'fan', 'base', 'flamboyant', 'style', 'play', 'pbks', 'featured', 'several', 'star', 'player', 'year', 'including', 'kl', 'rahul', 'chris', 'gayle', 'shikhar', 'dhawan', 'despite', 'strong', 'squad', 'coming', 'close', 'glory', '2014', 'season', 'team', 'yet', 'win', 'ipl', 'title', 'play', 'home', 'match', 'pca', 'stadium', 'mohali', 'recognized', 'nevergiveup', 'attitude', 'exciting', 'brand', 'cricket']\n"
     ]
    }
   ],
   "source": [
    "# Initialize stemmers and lemmatizer\n",
    "porter_stemmer = PorterStemmer()\n",
    "lancaster_stemmer = LancasterStemmer()\n",
    "lemmatizer = WordNetLemmatizer()\n",
    "\n",
    "# Apply stemming using PorterStemmer and LancasterStemmer\n",
    "porter_stemmed = [porter_stemmer.stem(word) for word in filtered_words]\n",
    "lancaster_stemmed = [lancaster_stemmer.stem(word) for word in filtered_words]\n",
    "\n",
    "# Apply lemmatization using WordNetLemmatizer\n",
    "lemmatized = [lemmatizer.lemmatize(word) for word in filtered_words]\n",
    "\n",
    "# Compare and display results of both techniques\n",
    "print(\"\\nStemming (PorterStemmer):\", porter_stemmed)\n",
    "print(\"\\nStemming (LancasterStemmer):\", lancaster_stemmed)\n",
    "print(\"\\nLemmatization:\", lemmatized)\n",
    "\n"
   ]
  },
  {
   "cell_type": "markdown",
   "metadata": {},
   "source": [
    "Q3. Regular Expressions and Text Spliƫng\n",
    "1. Take their original text from QuesƟon 1.\n",
    "2. Use regular expressions to:\n",
    "a. Extract all words with more than 5 leƩers.\n",
    "b. Extract all numbers (if any exist in their text).\n",
    "c. Extract all capitalized words.\n",
    "3. Use text spliƫng techniques to:\n",
    "a. Split the text into words containing only alphabets (removing digits and special\n",
    "characters).\n",
    "b. Extract words starƟng with a vowel.\n"
   ]
  },
  {
   "cell_type": "code",
   "execution_count": 3,
   "metadata": {},
   "outputs": [
    {
     "name": "stdout",
     "output_type": "stream",
     "text": [
      "\n",
      "Words with more than 5 letters: ['punjab', 'franchise', 'cricket', 'mohali', 'punjab', 'competes', 'indian', 'premier', 'league', 'established', 'punjab', 'rebranded', 'punjab', 'passionate', 'flamboyant', 'featured', 'several', 'players', 'including', 'shikhar', 'dhawan', 'despite', 'having', 'strong', 'coming', 'season', 'matches', 'stadium', 'mohali', 'recognized', 'nevergiveup', 'attitude', 'exciting', 'cricket']\n",
      "\n",
      "Numbers found in text: ['2008', '2021', '2014']\n",
      "\n",
      "Capitalized words: []\n",
      "\n",
      "Alphabetic words: ['punjab', 'kings', 'pbks', 'is', 'a', 'franchise', 'cricket', 'team', 'based', 'in', 'mohali', 'punjab', 'that', 'competes', 'in', 'the', 'indian', 'premier', 'league', 'ipl', 'established', 'in', 'as', 'kings', 'xi', 'punjab', 'the', 'team', 'was', 'later', 'rebranded', 'as', 'punjab', 'kings', 'in', 'known', 'for', 'its', 'passionate', 'fan', 'base', 'and', 'flamboyant', 'style', 'of', 'play', 'pbks', 'has', 'featured', 'several', 'star', 'players', 'over', 'the', 'years', 'including', 'kl', 'rahul', 'chris', 'gayle', 'and', 'shikhar', 'dhawan', 'despite', 'having', 'a', 'strong', 'squad', 'and', 'coming', 'close', 'to', 'glory', 'in', 'the', 'season', 'the', 'team', 'has', 'yet', 'to', 'win', 'an', 'ipl', 'title', 'they', 'play', 'their', 'home', 'matches', 'at', 'the', 'pca', 'stadium', 'in', 'mohali', 'and', 'are', 'recognized', 'for', 'their', 'nevergiveup', 'attitude', 'and', 'exciting', 'brand', 'of', 'cricket']\n",
      "\n",
      "Words starting with a vowel: ['is', 'a', 'in', 'in', 'indian', 'ipl', 'established', 'in', 'as', 'as', 'in', 'its', 'and', 'of', 'over', 'including', 'and', 'a', 'and', 'in', 'an', 'ipl', 'at', 'in', 'and', 'are', 'attitude', 'and', 'exciting', 'of']\n"
     ]
    }
   ],
   "source": [
    "# 1. Use regular expressions to extract:\n",
    "# a. All words with more than 5 letters\n",
    "long_words = re.findall(r'\\b\\w{6,}\\b', text_clean)\n",
    "print(\"\\nWords with more than 5 letters:\", long_words)\n",
    "\n",
    "# b. All numbers \n",
    "numbers = re.findall(r'\\b\\d+\\b', text_clean)\n",
    "print(\"\\nNumbers found in text:\", numbers)\n",
    "\n",
    "# c. All capitalized words\n",
    "capitalized_words = re.findall(r'\\b[A-Z][a-z]*\\b', text_clean)\n",
    "print(\"\\nCapitalized words:\", capitalized_words)\n",
    "\n",
    "# 2. Use text splitting techniques:\n",
    "# a. Split the text into words containing only alphabets \n",
    "alphabetic_words = re.findall(r'\\b[a-zA-Z]+\\b', text_clean)\n",
    "print(\"\\nAlphabetic words:\", alphabetic_words)\n",
    "\n",
    "# b. Extract words starting with a vowel\n",
    "vowel_words = re.findall(r'\\b[aeiouAEIOU]\\w*\\b', text_clean)\n",
    "print(\"\\nWords starting with a vowel:\", vowel_words)\n",
    "\n"
   ]
  },
  {
   "cell_type": "markdown",
   "metadata": {},
   "source": [
    "Q4. Custom TokenizaƟon & Regex-based Text Cleaning\n",
    "1. Take original text from QuesƟon 1.\n",
    "2. Write a custom tokenizaƟon funcƟon that:\n",
    "a. Removes punctuaƟon and special symbols, but keeps contracƟons (e.g.,\n",
    "\"isn't\" should not be split into \"is\" and \"n't\").\n",
    "b. Handles hyphenated words as a single token (e.g., \"state-of-the-art\" remains\n",
    "a single token).\n",
    "c. Tokenizes numbers separately but keeps decimal numbers intact (e.g., \"3.14\"\n",
    "should remain as is).\n",
    "3. Use Regex SubsƟtuƟons (re.sub) to:\n",
    "a. Replace email addresses with '<EMAIL>' placeholder.\n",
    "b. Replace URLs with '<URL>' placeholder.\n",
    "c. Replace phone numbers (formats: 123-456-7890 or +91 9876543210) with\n",
    "'<PHONE>' placeholder. "
   ]
  },
  {
   "cell_type": "code",
   "execution_count": 4,
   "metadata": {},
   "outputs": [
    {
     "name": "stdout",
     "output_type": "stream",
     "text": [
      "\n",
      "Custom Tokenized Text: ['punjab', 'kings', 'pbks', 'is', 'a', 'franchise', 'cricket', 'team', 'based', 'in', 'mohali', 'punjab', 'that', 'competes', 'in', 'the', 'indian', 'premier', 'league', 'ipl', 'established', 'in', '2008', 'as', 'kings', 'xi', 'punjab', 'the', 'team', 'was', 'later', 'rebranded', 'as', 'punjab', 'kings', 'in', '2021', 'known', 'for', 'its', 'passionate', 'fan', 'base', 'and', 'flamboyant', 'style', 'of', 'play', 'pbks', 'has', 'featured', 'several', 'star', 'players', 'over', 'the', 'years', 'including', 'kl', 'rahul', 'chris', 'gayle', 'and', 'shikhar', 'dhawan', 'despite', 'having', 'a', 'strong', 'squad', 'and', 'coming', 'close', 'to', 'glory', 'in', 'the', '2014', 'season', 'the', 'team', 'has', 'yet', 'to', 'win', 'an', 'ipl', 'title', 'they', 'play', 'their', 'home', 'matches', 'at', 'the', 'pca', 'stadium', 'in', 'mohali', 'and', 'are', 'recognized', 'for', 'their', 'never-give-up', 'attitude', 'and', 'exciting', 'brand', 'of', 'cricket']\n",
      "\n",
      "Text with Emails, URLs, and Phone Numbers Replaced:\n",
      "\n",
      "Punjab Kings (PBKS) is a franchise cricket team based in Mohali, Punjab, that competes in the Indian Premier League (IPL). Established in 2008 as Kings XI Punjab, the team was later rebranded as Punjab Kings in 2021. Known for its passionate fan base and flamboyant style of play, PBKS has featured several star players over the years, including KL Rahul, Chris Gayle, and Shikhar Dhawan. Despite having a strong squad and coming close to glory in the 2014 season, the team has yet to win an IPL title. They play their home matches at the PCA Stadium in Mohali and are recognized for their never-give-up attitude and exciting brand of cricket.\n",
      "\n"
     ]
    }
   ],
   "source": [
    "# 1. Custom tokenization function\n",
    "def custom_tokenizer(text):\n",
    "    text = text.lower()  \n",
    "    text = re.sub(r'[^\\w\\s\\'-]', '', text)\n",
    "    return word_tokenize(text)\n",
    "\n",
    "custom_tokens = custom_tokenizer(text)\n",
    "print(\"\\nCustom Tokenized Text:\", custom_tokens)\n",
    "\n",
    "# 2. Regex substitutions for cleaning\n",
    "# a. Replace email addresses with '<EMAIL>'\n",
    "text_with_emails = re.sub(r'\\b[A-Za-z0-9._%+-]+@[A-Za-z0-9.-]+\\.[A-Z|a-z]{2,7}\\b', '<EMAIL>', text)\n",
    "# b. Replace URLs with '<URL>'\n",
    "text_with_urls = re.sub(r'http[s]?://(?:[a-zA-Z]|[0-9]|[$-_@.&+]|[!*\\\\(\\\\),]|(?:%[0-9a-fA-F][0-9a-fA-F]))+', '<URL>', text_with_emails)\n",
    "# c. Replace phone numbers with '<PHONE>'\n",
    "text_cleaned = re.sub(r'(\\+?\\d{1,2}\\s?)?(\\(?\\d{3}\\)?[-.\\s]?\\d{3}[-.\\s]?\\d{4})', '<PHONE>', text_with_urls)\n",
    "\n",
    "print(\"\\nText with Emails, URLs, and Phone Numbers Replaced:\")\n",
    "print(text_cleaned)\n"
   ]
  },
  {
   "cell_type": "code",
   "execution_count": null,
   "metadata": {},
   "outputs": [],
   "source": []
  }
 ],
 "metadata": {
  "kernelspec": {
   "display_name": "Python (nlp_env)",
   "language": "python",
   "name": "nlp_env"
  },
  "language_info": {
   "codemirror_mode": {
    "name": "ipython",
    "version": 3
   },
   "file_extension": ".py",
   "mimetype": "text/x-python",
   "name": "python",
   "nbconvert_exporter": "python",
   "pygments_lexer": "ipython3",
   "version": "3.10.16"
  }
 },
 "nbformat": 4,
 "nbformat_minor": 2
}
